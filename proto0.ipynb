{
 "cells": [
  {
   "cell_type": "code",
   "execution_count": null,
   "metadata": {
    "collapsed": true
   },
   "outputs": [],
   "source": [
    "import itertools"
   ]
  },
  {
   "cell_type": "code",
   "execution_count": null,
   "metadata": {
    "collapsed": true
   },
   "outputs": [],
   "source": [
    "from skyscanner import FlightsCache\n",
    "\n",
    "service = FlightsCache('se893794935794863942245517499220')\n",
    "\n",
    "params = dict(\n",
    "    market='US',\n",
    "    currency='USD',\n",
    "    locale='en-US',\n",
    "    destinationplace='US',\n",
    "    outbounddate='2016-08',\n",
    "    inbounddate='2016-08')\n",
    "\n",
    "user1_params = dict(originplace='DTW-sky')\n",
    "user2_params = dict(originplace='SFO-sky')"
   ]
  },
  {
   "cell_type": "code",
   "execution_count": null,
   "metadata": {
    "collapsed": true
   },
   "outputs": [],
   "source": [
    "user1_result = service.get_cheapest_quotes(**params, **user1_params).parsed\n",
    "user2_result = service.get_cheapest_quotes(**params, **user2_params).parsed"
   ]
  },
  {
   "cell_type": "code",
   "execution_count": null,
   "metadata": {
    "collapsed": false
   },
   "outputs": [],
   "source": [
    "import sqlite3\n",
    "\n",
    "DB_SCHEMA = \"\"\"\n",
    "PRAGMA foreign_keys = ON;\n",
    "\n",
    "CREATE TABLE place\n",
    "  ( id     INTEGER          PRIMARY KEY\n",
    "  , name   TEXT    NOT NULL\n",
    "  , type   TEXT    NOT NULL\n",
    "  );\n",
    "\n",
    "CREATE TABLE quote\n",
    "  ( query_id                   INTEGER\n",
    "  , quote_id                   INTEGER\n",
    "  , direct                     BOOLEAN  NOT NULL\n",
    "  , minimum_price              FLOAT    NOT NULL\n",
    "  , quote_datetime             DATETIME NOT NULL\n",
    "  , outbound_departure_date    DATETIME NOT NULL\n",
    "  , outbound_origin_id         INTEGER  NOT NULL REFERENCES place(id)\n",
    "  , outbound_destination_id    INTEGER  NOT NULL REFERENCES place(id)\n",
    "  , outbound_carriers          TEXT     NOT NULL\n",
    "  , inbound_departure_date     DATETIME NOT NULL\n",
    "  , inbound_origin_id          INTEGER  NOT NULL REFERENCES place(id)\n",
    "  , inbound_destination_id     INTEGER  NOT NULL REFERENCES place(id)\n",
    "  , inbound_carriers           TEXT     NOT NULL\n",
    "  \n",
    "  , PRIMARY KEY (query_id, quote_id)\n",
    "  );\n",
    "\n",
    "\"\"\"\n",
    "\n",
    "sqlite3.enable_callback_tracebacks(True)\n",
    "\n",
    "db = sqlite3.connect(':memory:')\n",
    "db.executescript(DB_SCHEMA)\n",
    "\n",
    "places = [(d['PlaceId'], d['Name'], d['Type'])\n",
    "          for d in itertools.chain(user1_result['Places'],\n",
    "                                   user2_result['Places'])]\n",
    "db.executemany('INSERT INTO place VALUES (?,?,?)', set(places))\n",
    "\n",
    "quotes1 = [(1, d['QuoteId'], d['Direct'], d['MinPrice'], d['QuoteDateTime'],\n",
    "           d['OutboundLeg']['DepartureDate'], d['OutboundLeg']['OriginId'],\n",
    "           d['OutboundLeg']['DestinationId'], str(d['OutboundLeg']['CarrierIds']),\n",
    "           d['InboundLeg']['DepartureDate'], d['InboundLeg']['OriginId'],\n",
    "           d['InboundLeg']['DestinationId'], str(d['InboundLeg']['CarrierIds']))\n",
    "          for d in user1_result['Quotes']]\n",
    "db.executemany('INSERT INTO quote VALUES (?,?,?,?,?,?,?,?,?,?,?,?,?)', quotes1)\n",
    "\n",
    "quotes2 = [(2, d['QuoteId'], d['Direct'], d['MinPrice'], d['QuoteDateTime'],\n",
    "           d['OutboundLeg']['DepartureDate'], d['OutboundLeg']['OriginId'],\n",
    "           d['OutboundLeg']['DestinationId'], str(d['OutboundLeg']['CarrierIds']),\n",
    "           d['InboundLeg']['DepartureDate'], d['InboundLeg']['OriginId'],\n",
    "           d['InboundLeg']['DestinationId'], str(d['InboundLeg']['CarrierIds']))\n",
    "          for d in user2_result['Quotes']]\n",
    "db.executemany('INSERT INTO quote VALUES (?,?,?,?,?,?,?,?,?,?,?,?,?)', quotes2)"
   ]
  },
  {
   "cell_type": "code",
   "execution_count": null,
   "metadata": {
    "collapsed": false
   },
   "outputs": [],
   "source": [
    "import pandas as pd\n",
    "\n",
    "place_table = pd.read_sql('SELECT * FROM place', con=db)\n",
    "place_map = dict(zip(place_table.id, place_table.name))"
   ]
  },
  {
   "cell_type": "code",
   "execution_count": null,
   "metadata": {
    "collapsed": false
   },
   "outputs": [],
   "source": [
    "query = \"\"\"\n",
    "    SELECT\n",
    "        quote1.minimum_price + quote2.minimum_price AS minimum_total_price\n",
    "      , quote1.outbound_origin_id AS quote1_origin\n",
    "      , quote2.outbound_origin_id AS quote2_origin\n",
    "      , quote1.outbound_destination_id AS destination\n",
    "      , quote1.outbound_departure_date AS quote1_outbound_date\n",
    "      , quote2.outbound_departure_date AS quote2_outbound_date\n",
    "      , quote1.inbound_departure_date AS quote1_inbound_date\n",
    "      , quote2.inbound_departure_date AS quote2_inbound_date\n",
    "    FROM (SELECT * FROM quote where query_id = 1) AS quote1\n",
    "    JOIN (SELECT * FROM quote where query_id = 2) AS quote2\n",
    "      ON quote1.outbound_destination_id = quote2.outbound_destination_id\n",
    "--      AND JULIANDAY(quote1.outbound_departure_date) = JULIANDAY(quote2.outbound_departure_date)\n",
    "\"\"\"\n",
    "\n",
    "data = pd.read_sql(query, con=db, parse_dates=['quote1_outbound_date', 'quote2_outbound_date', 'quote1_inbound_date', 'quote2_inbound_date'])\n",
    "data.quote1_origin = data.quote1_origin.map(place_map)\n",
    "data.quote2_origin = data.quote2_origin.map(place_map)\n",
    "data.destination = data.destination.map(place_map)"
   ]
  },
  {
   "cell_type": "code",
   "execution_count": null,
   "metadata": {
    "collapsed": false
   },
   "outputs": [],
   "source": [
    "data[(abs((data.quote1_inbound_date - data.quote2_inbound_date).dt.days) <= 0) &\n",
    "     (abs((data.quote1_outbound_date - data.quote2_outbound_date).dt.days) <= 0)].sort_values('minimum_total_price').head()"
   ]
  }
 ],
 "metadata": {
  "kernelspec": {
   "display_name": "Python 3",
   "language": "python",
   "name": "python3"
  },
  "language_info": {
   "codemirror_mode": {
    "name": "ipython",
    "version": 3
   },
   "file_extension": ".py",
   "mimetype": "text/x-python",
   "name": "python",
   "nbconvert_exporter": "python",
   "pygments_lexer": "ipython3",
   "version": "3.5.0"
  }
 },
 "nbformat": 4,
 "nbformat_minor": 0
}
